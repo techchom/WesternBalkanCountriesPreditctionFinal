{
 "cells": [
  {
   "cell_type": "code",
   "execution_count": 33,
   "id": "21a0ccf1-5751-4f9f-b669-08a8aee5375a",
   "metadata": {},
   "outputs": [],
   "source": [
    "#Step 1: Load the Data\n",
    "import pandas as pd\n",
    "import numpy as np\n",
    "import seaborn as sns\n",
    "import matplotlib.pyplot as plt\n",
    "from sklearn import metrics\n",
    "from sklearn.metrics import r2_score\n",
    "from sklearn.model_selection import train_test_split\n",
    "from sklearn import linear_model\n",
    "import streamlit as st\n",
    "\n"
   ]
  },
  {
   "cell_type": "code",
   "execution_count": 34,
   "id": "c99562c3-54c8-482f-ad7d-146404ade67a",
   "metadata": {},
   "outputs": [],
   "source": [
    "# Load the provided data\n",
    "population_data = pd.read_csv('datasets/Countries_Population_final.csv')\n",
    "# Load the provided data\n",
    "population_countries = pd.read_csv('datasets/Countries_names.csv')\n"
   ]
  },
  {
   "cell_type": "code",
   "execution_count": 35,
   "id": "5799cb1f-6db5-48df-b6ab-384af6898c4d",
   "metadata": {},
   "outputs": [],
   "source": [
    "\n",
    "# Western Balkan countries\n",
    "western_balkan_countries = [\"Albania\", \"Bosnia and Herzegovina\", \"Croatia\", \"Kosovo\", \"Montenegro\", \"North Macedonia\", \"Serbia\"]\n"
   ]
  },
  {
   "cell_type": "code",
   "execution_count": 36,
   "id": "ae44611d-7619-44a3-bcfb-77f6b10bb4bb",
   "metadata": {},
   "outputs": [],
   "source": [
    "# Filter data for Western Balkan countries\n",
    "balkan_data = population_data[['Year'] + western_balkan_countries]\n"
   ]
  },
  {
   "cell_type": "code",
   "execution_count": 37,
   "id": "23827e4d-b76a-43ca-9733-cecace9036b8",
   "metadata": {},
   "outputs": [
    {
     "data": {
      "text/html": [
       "<div>\n",
       "<style scoped>\n",
       "    .dataframe tbody tr th:only-of-type {\n",
       "        vertical-align: middle;\n",
       "    }\n",
       "\n",
       "    .dataframe tbody tr th {\n",
       "        vertical-align: top;\n",
       "    }\n",
       "\n",
       "    .dataframe thead th {\n",
       "        text-align: right;\n",
       "    }\n",
       "</style>\n",
       "<table border=\"1\" class=\"dataframe\">\n",
       "  <thead>\n",
       "    <tr style=\"text-align: right;\">\n",
       "      <th></th>\n",
       "      <th>Year</th>\n",
       "      <th>Albania</th>\n",
       "      <th>Bosnia and Herzegovina</th>\n",
       "      <th>Croatia</th>\n",
       "      <th>Kosovo</th>\n",
       "      <th>Montenegro</th>\n",
       "      <th>North Macedonia</th>\n",
       "      <th>Serbia</th>\n",
       "    </tr>\n",
       "  </thead>\n",
       "  <tbody>\n",
       "    <tr>\n",
       "      <th>0</th>\n",
       "      <td>1960</td>\n",
       "      <td>1608800.0</td>\n",
       "      <td>3262539.0</td>\n",
       "      <td>4140181.0</td>\n",
       "      <td>947000.0</td>\n",
       "      <td>480579.0</td>\n",
       "      <td>1462368.0</td>\n",
       "      <td>6608000.0</td>\n",
       "    </tr>\n",
       "    <tr>\n",
       "      <th>1</th>\n",
       "      <td>1961</td>\n",
       "      <td>1659800.0</td>\n",
       "      <td>3325333.0</td>\n",
       "      <td>4167292.0</td>\n",
       "      <td>966000.0</td>\n",
       "      <td>491140.0</td>\n",
       "      <td>1481112.0</td>\n",
       "      <td>6655000.0</td>\n",
       "    </tr>\n",
       "    <tr>\n",
       "      <th>2</th>\n",
       "      <td>1962</td>\n",
       "      <td>1711319.0</td>\n",
       "      <td>3387512.0</td>\n",
       "      <td>4196712.0</td>\n",
       "      <td>994000.0</td>\n",
       "      <td>502558.0</td>\n",
       "      <td>1497338.0</td>\n",
       "      <td>6696000.0</td>\n",
       "    </tr>\n",
       "    <tr>\n",
       "      <th>3</th>\n",
       "      <td>1963</td>\n",
       "      <td>1762621.0</td>\n",
       "      <td>3448532.0</td>\n",
       "      <td>4225675.0</td>\n",
       "      <td>1022000.0</td>\n",
       "      <td>513409.0</td>\n",
       "      <td>1511854.0</td>\n",
       "      <td>6732000.0</td>\n",
       "    </tr>\n",
       "    <tr>\n",
       "      <th>4</th>\n",
       "      <td>1964</td>\n",
       "      <td>1814135.0</td>\n",
       "      <td>3507959.0</td>\n",
       "      <td>4252876.0</td>\n",
       "      <td>1050000.0</td>\n",
       "      <td>521753.0</td>\n",
       "      <td>1529507.0</td>\n",
       "      <td>6765000.0</td>\n",
       "    </tr>\n",
       "  </tbody>\n",
       "</table>\n",
       "</div>"
      ],
      "text/plain": [
       "   Year    Albania  Bosnia and Herzegovina    Croatia     Kosovo  Montenegro  \\\n",
       "0  1960  1608800.0               3262539.0  4140181.0   947000.0    480579.0   \n",
       "1  1961  1659800.0               3325333.0  4167292.0   966000.0    491140.0   \n",
       "2  1962  1711319.0               3387512.0  4196712.0   994000.0    502558.0   \n",
       "3  1963  1762621.0               3448532.0  4225675.0  1022000.0    513409.0   \n",
       "4  1964  1814135.0               3507959.0  4252876.0  1050000.0    521753.0   \n",
       "\n",
       "   North Macedonia     Serbia  \n",
       "0        1462368.0  6608000.0  \n",
       "1        1481112.0  6655000.0  \n",
       "2        1497338.0  6696000.0  \n",
       "3        1511854.0  6732000.0  \n",
       "4        1529507.0  6765000.0  "
      ]
     },
     "execution_count": 37,
     "metadata": {},
     "output_type": "execute_result"
    }
   ],
   "source": [
    "# Display the first few rows of the filtered data\n",
    "balkan_data.head()"
   ]
  },
  {
   "cell_type": "code",
   "execution_count": 38,
   "id": "cd50ed9f-7e3a-4400-ba8d-555b674b1e1d",
   "metadata": {},
   "outputs": [],
   "source": [
    "# Make a copy of the DataFrame to avoid SettingWithCopyWarning\n",
    "balkan_data_clean = balkan_data.copy()\n",
    "\n"
   ]
  },
  {
   "cell_type": "code",
   "execution_count": 39,
   "id": "1c4b03a0-9476-464e-a292-9168acfa3682",
   "metadata": {},
   "outputs": [],
   "source": [
    "# Drop rows with missing data\n",
    "balkan_data_clean.dropna(inplace=True)\n"
   ]
  },
  {
   "cell_type": "code",
   "execution_count": 40,
   "id": "4ada298e-d757-4205-b27b-a6f0a48e36d7",
   "metadata": {},
   "outputs": [
    {
     "name": "stdout",
     "output_type": "stream",
     "text": [
      "   Year    Albania  Bosnia and Herzegovina    Croatia     Kosovo  Montenegro  \\\n",
      "0  1960  1608800.0               3262539.0  4140181.0   947000.0    480579.0   \n",
      "1  1961  1659800.0               3325333.0  4167292.0   966000.0    491140.0   \n",
      "2  1962  1711319.0               3387512.0  4196712.0   994000.0    502558.0   \n",
      "3  1963  1762621.0               3448532.0  4225675.0  1022000.0    513409.0   \n",
      "4  1964  1814135.0               3507959.0  4252876.0  1050000.0    521753.0   \n",
      "\n",
      "   North Macedonia     Serbia  \n",
      "0        1462368.0  6608000.0  \n",
      "1        1481112.0  6655000.0  \n",
      "2        1497338.0  6696000.0  \n",
      "3        1511854.0  6732000.0  \n",
      "4        1529507.0  6765000.0  \n"
     ]
    }
   ],
   "source": [
    "# Display the first few rows of the filtered data\n",
    "print(balkan_data_clean.head())"
   ]
  },
  {
   "cell_type": "code",
   "execution_count": 41,
   "id": "10622c3c-51f3-44a5-a0fb-ff97651c4125",
   "metadata": {},
   "outputs": [
    {
     "name": "stdout",
     "output_type": "stream",
     "text": [
      "Missing values after dropping rows with missing data:\n",
      "Year                      0\n",
      "Albania                   0\n",
      "Bosnia and Herzegovina    0\n",
      "Croatia                   0\n",
      "Kosovo                    0\n",
      "Montenegro                0\n",
      "North Macedonia           0\n",
      "Serbia                    0\n",
      "dtype: int64\n"
     ]
    }
   ],
   "source": [
    "# Check for missing values\n",
    "missing_values = balkan_data_clean.isnull().sum()\n",
    "print(\"Missing values after dropping rows with missing data:\")\n",
    "print(missing_values)\n"
   ]
  },
  {
   "cell_type": "code",
   "execution_count": 42,
   "id": "452b83e5-245e-497e-8298-ab205cee15d2",
   "metadata": {},
   "outputs": [
    {
     "name": "stdout",
     "output_type": "stream",
     "text": [
      "Albania:\n",
      "  Best fit line: y = 0.008x + -14.619\n",
      "  R2 coefficient: 0.359\n",
      "  Mean Squared Error (Normalization): 0.0267\n",
      "  2040 Albania population: 3,426,979\n",
      "  2050 Albania population: 3,556,120\n"
     ]
    },
    {
     "data": {
      "image/png": "[encoded data removed]",
      "text/plain": [
       "<Figure size 1000x500 with 1 Axes>"
      ]
     },
     "metadata": {},
     "output_type": "display_data"
    },
    {
     "name": "stdout",
     "output_type": "stream",
     "text": [
      "Bosnia and Herzegovina:\n",
      "  Best fit line: y = -0.008x + 16.081\n",
      "  R2 coefficient: 0.225\n",
      "  Mean Squared Error (Normalization): 0.0525\n",
      "  2040 Bosnia and Herzegovina population: 3,533,707\n",
      "  2050 Bosnia and Herzegovina population: 3,437,303\n"
     ]
    },
    {
     "data": {
      "image/png": "[encoded data removed]",
      "text/plain": [
       "<Figure size 1000x500 with 1 Axes>"
      ]
     },
     "metadata": {},
     "output_type": "display_data"
    },
    {
     "name": "stdout",
     "output_type": "stream",
     "text": [
      "Croatia:\n",
      "  Best fit line: y = -0.010x + 19.801\n",
      "  R2 coefficient: 0.427\n",
      "  Mean Squared Error (Normalization): 0.0314\n",
      "  2040 Croatia population: 4,051,615\n",
      "  2050 Croatia population: 3,967,108\n"
     ]
    },
    {
     "data": {
      "image/png": "[encoded data removed]",
      "text/plain": [
       "<Figure size 1000x500 with 1 Axes>"
      ]
     },
     "metadata": {},
     "output_type": "display_data"
    },
    {
     "name": "stdout",
     "output_type": "stream",
     "text": [
      "Kosovo:\n",
      "  Best fit line: y = 0.009x + -17.776\n",
      "  R2 coefficient: 0.502\n",
      "  Mean Squared Error (Normalization): 0.0213\n",
      "  2040 Kosovo population: 2,156,084\n",
      "  2050 Kosovo population: 2,261,261\n"
     ]
    },
    {
     "data": {
      "image/png": "[encoded data removed]",
      "text/plain": [
       "<Figure size 1000x500 with 1 Axes>"
      ]
     },
     "metadata": {},
     "output_type": "display_data"
    },
    {
     "name": "stdout",
     "output_type": "stream",
     "text": [
      "Montenegro:\n",
      "  Best fit line: y = 0.013x + -25.750\n",
      "  R2 coefficient: 0.747\n",
      "  Mean Squared Error (Normalization): 0.0151\n",
      "  2040 Montenegro population: 679,546\n",
      "  2050 Montenegro population: 698,419\n"
     ]
    },
    {
     "data": {
      "image/png": "[encoded data removed]",
      "text/plain": [
       "<Figure size 1000x500 with 1 Axes>"
      ]
     },
     "metadata": {},
     "output_type": "display_data"
    },
    {
     "name": "stdout",
     "output_type": "stream",
     "text": [
      "North Macedonia:\n",
      "  Best fit line: y = 0.012x + -23.145\n",
      "  R2 coefficient: 0.719\n",
      "  Mean Squared Error (Normalization): 0.0142\n",
      "  2040 North Macedonia population: 2,295,727\n",
      "  2050 North Macedonia population: 2,369,511\n"
     ]
    },
    {
     "data": {
      "image/png": "[encoded data removed]",
      "text/plain": [
       "<Figure size 1000x500 with 1 Axes>"
      ]
     },
     "metadata": {},
     "output_type": "display_data"
    },
    {
     "name": "stdout",
     "output_type": "stream",
     "text": [
      "Serbia:\n",
      "  Best fit line: y = -0.000x + 1.254\n",
      "  R2 coefficient: 0.001\n",
      "  Mean Squared Error (Normalization): 0.0477\n",
      "  2040 Serbia population: 7,303,945\n",
      "  2050 Serbia population: 7,300,432\n"
     ]
    },
    {
     "data": {
      "image/png": "[encoded data removed]",
      "text/plain": [
       "<Figure size 1000x500 with 1 Axes>"
      ]
     },
     "metadata": {},
     "output_type": "display_data"
    }
   ],
   "source": [
    "# Prepare for linear regression\n",
    "results = {}\n",
    "\n",
    "for country in western_balkan_countries:\n",
    "    X = balkan_data_clean[['Year']].values\n",
    "    Y = balkan_data_clean[country].values\n",
    "    \n",
    "    # Normalize the target variable\n",
    "    minimum = Y.min()\n",
    "    maximum = Y.max()\n",
    "    Y_normalized = (Y - minimum) / (maximum - minimum)\n",
    "\n",
    "    # Split data for training\n",
    "    X_train = X[7:]\n",
    "    Y_train = Y_normalized[7:]\n",
    "\n",
    "    # Train the linear regression model\n",
    "    model = linear_model.LinearRegression()\n",
    "    model.fit(X_train, Y_train)\n",
    "    ypred = model.predict(X_train)\n",
    "    \n",
    "    # Calculate model parameters\n",
    "    m = model.coef_[0]\n",
    "    d = model.intercept_\n",
    "    r2 = r2_score(Y_train, ypred)\n",
    "    mse = metrics.mean_squared_error(Y_train, ypred)\n",
    "\n",
    "    # Predictions for specific years\n",
    "    prediction_years = np.array([[2040], [2050]])\n",
    "    predictions_normalized = model.predict(prediction_years)\n",
    "    predictions = predictions_normalized * (maximum - minimum) + minimum\n",
    "    \n",
    "    print(f\"{country}:\")\n",
    "    print(f\"  Best fit line: y = {m:.3f}x + {d:.3f}\")\n",
    "    print(f\"  R2 coefficient: {r2:.3f}\")\n",
    "    print(f\"  Mean Squared Error (Normalization): {mse:.4f}\")\n",
    "    print(f\"  2040 {country} population: {predictions[0]:,.0f}\")\n",
    "    print(f\"  2050 {country} population: {predictions[1]:,.0f}\")\n",
    "\n",
    "    # Save results for plotting\n",
    "    results[country] = {\n",
    "        'X': X,\n",
    "        'Y': Y,\n",
    "        'model': model,\n",
    "        'minimum': minimum,\n",
    "        'maximum': maximum\n",
    "    }\n",
    "\n",
    "    # Plot the predictions\n",
    "    plt.figure(figsize=(10, 5))\n",
    "    plt.plot(X, Y, label='Demographic trends')\n",
    "    plt.plot(X_train, ypred * (maximum - minimum) + minimum, label='Linear regression')\n",
    "    plt.xlabel('Year')\n",
    "    plt.ylabel('Population')\n",
    "    plt.title(f'{country} Population Prediction')\n",
    "    plt.legend()\n",
    "    plt.show()\n"
   ]
  },
  {
   "cell_type": "code",
   "execution_count": 10,
   "id": "851e21c6-a799-4dad-995f-979972860ced",
   "metadata": {},
   "outputs": [
    {
     "name": "stdout",
     "output_type": "stream",
     "text": [
      "Requirement already satisfied: torch in c:\\users\\documents\\anaconda3\\lib\\site-packages (2.3.1)\n",
      "Requirement already satisfied: torchvision in c:\\users\\documents\\anaconda3\\lib\\site-packages (0.18.1)\n",
      "Requirement already satisfied: torchaudio in c:\\users\\documents\\anaconda3\\lib\\site-packages (2.3.1)\n",
      "Requirement already satisfied: filelock in c:\\users\\documents\\anaconda3\\lib\\site-packages (from torch) (3.13.1)\n",
      "Requirement already satisfied: typing-extensions>=4.8.0 in c:\\users\\documents\\anaconda3\\lib\\site-packages (from torch) (4.11.0)\n",
      "Requirement already satisfied: sympy in c:\\users\\documents\\anaconda3\\lib\\site-packages (from torch) (1.12)\n",
      "Requirement already satisfied: networkx in c:\\users\\documents\\anaconda3\\lib\\site-packages (from torch) (3.2.1)\n",
      "Requirement already satisfied: jinja2 in c:\\users\\documents\\anaconda3\\lib\\site-packages (from torch) (3.1.4)\n",
      "Requirement already satisfied: fsspec in c:\\users\\documents\\anaconda3\\lib\\site-packages (from torch) (2024.3.1)\n",
      "Requirement already satisfied: mkl<=2021.4.0,>=2021.1.1 in c:\\users\\documents\\anaconda3\\lib\\site-packages (from torch) (2021.4.0)\n",
      "Requirement already satisfied: numpy in c:\\users\\documents\\anaconda3\\lib\\site-packages (from torchvision) (1.26.4)\n",
      "Requirement already satisfied: pillow!=8.3.*,>=5.3.0 in c:\\users\\documents\\anaconda3\\lib\\site-packages (from torchvision) (10.3.0)\n",
      "Requirement already satisfied: intel-openmp==2021.* in c:\\users\\documents\\anaconda3\\lib\\site-packages (from mkl<=2021.4.0,>=2021.1.1->torch) (2021.4.0)\n",
      "Requirement already satisfied: tbb==2021.* in c:\\users\\documents\\anaconda3\\lib\\site-packages (from mkl<=2021.4.0,>=2021.1.1->torch) (2021.13.0)\n",
      "Requirement already satisfied: MarkupSafe>=2.0 in c:\\users\\documents\\anaconda3\\lib\\site-packages (from jinja2->torch) (2.1.3)\n",
      "Requirement already satisfied: mpmath>=0.19 in c:\\users\\documents\\anaconda3\\lib\\site-packages (from sympy->torch) (1.3.0)\n"
     ]
    }
   ],
   "source": [
    "!pip install torch torchvision torchaudio\n"
   ]
  },
  {
   "cell_type": "code",
   "execution_count": 43,
   "id": "a290d5e5-698f-4777-9046-fbbe917a122b",
   "metadata": {},
   "outputs": [],
   "source": [
    "import torch\n",
    "import torch.nn as nn\n",
    "import plotly.express as px\n",
    "import os  # Add this import statement to use os functions\n"
   ]
  },
  {
   "cell_type": "code",
   "execution_count": 44,
   "id": "fb4c983f-85b4-4d51-93d7-0522e772df06",
   "metadata": {},
   "outputs": [],
   "source": [
    "# Define the CNN model\n",
    "class CNN(nn.Module):\n",
    "    def __init__(self, input_size):\n",
    "        super(CNN, self).__init__()\n",
    "        self.input_size = input_size\n",
    "        self.convs = nn.Sequential(\n",
    "            nn.Conv1d(in_channels=1, out_channels=10, kernel_size=3, padding=1),\n",
    "            nn.ReLU(),\n",
    "            nn.MaxPool1d(kernel_size=2),\n",
    "            nn.Conv1d(in_channels=10, out_channels=10, kernel_size=3, padding=1),\n",
    "            nn.ReLU(),\n",
    "            nn.MaxPool1d(kernel_size=2)\n",
    "        )\n",
    "        self.fc = nn.Linear(in_features=int(input_size/2/2*10), out_features=1)\n",
    "    \n",
    "    def forward(self, x):\n",
    "        x = self.convs(x)\n",
    "        x = x.view(x.size()[0], -1)\n",
    "        x = self.fc(x)\n",
    "        return x\n"
   ]
  },
  {
   "cell_type": "code",
   "execution_count": 45,
   "id": "ba1acf86-41a2-485d-b58b-6c52cc7b3645",
   "metadata": {},
   "outputs": [],
   "source": [
    "\n",
    "# Initialize the model\n",
    "model_cnn = CNN(input_size=16)"
   ]
  },
  {
   "cell_type": "code",
   "execution_count": 47,
   "id": "6ad30ddc-3ea2-417f-8cc6-c50659897a9f",
   "metadata": {},
   "outputs": [],
   "source": [
    "\n",
    "# Define a simple optimizer and loss function for demonstration purposes\n",
    "optimizer = torch.optim.Adam(model_cnn.parameters(), lr=0.001)\n",
    "criterion = nn.MSELoss()"
   ]
  },
  {
   "cell_type": "code",
   "execution_count": 48,
   "id": "d4ccca4c-b3b5-4329-b7ff-b99f982843e3",
   "metadata": {},
   "outputs": [
    {
     "name": "stdout",
     "output_type": "stream",
     "text": [
      "Epoch 1, Loss: 0.3774445652961731\n",
      "Epoch 2, Loss: 0.3682624101638794\n",
      "Epoch 3, Loss: 0.3593565821647644\n",
      "Epoch 4, Loss: 0.3507108986377716\n",
      "Epoch 5, Loss: 0.34231483936309814\n",
      "Epoch 6, Loss: 0.3341173529624939\n",
      "Epoch 7, Loss: 0.32611626386642456\n",
      "Epoch 8, Loss: 0.31832221150398254\n",
      "Epoch 9, Loss: 0.31071415543556213\n",
      "Epoch 10, Loss: 0.30330610275268555\n"
     ]
    }
   ],
   "source": [
    "\n",
    "# Dummy training loop (replace with actual training data and logic)\n",
    "X_train = np.random.rand(100, 1, 16).astype(np.float32)  # Replace with actual training data\n",
    "Y_train = np.random.rand(100).astype(np.float32)  # Replace with actual target data\n",
    "\n",
    "for epoch in range(10):  # Replace with the actual number of epochs\n",
    "    model_cnn.train()\n",
    "    optimizer.zero_grad()\n",
    "    outputs = model_cnn(torch.from_numpy(X_train))\n",
    "    loss = criterion(outputs.squeeze(), torch.from_numpy(Y_train))\n",
    "    loss.backward()\n",
    "    optimizer.step()\n",
    "    print(f'Epoch {epoch+1}, Loss: {loss.item()}')\n"
   ]
  },
  {
   "cell_type": "code",
   "execution_count": 49,
   "id": "bba1a36e-5c22-463d-a0ee-cf35eaad8e9a",
   "metadata": {},
   "outputs": [],
   "source": [
    "\n",
    "\n",
    "# Prepare the model directory\n",
    "model_dir = './data/models'\n",
    "if not os.path.exists(model_dir):\n",
    "    os.makedirs(model_dir)"
   ]
  },
  {
   "cell_type": "code",
   "execution_count": 50,
   "id": "08c6f110-a72e-4ef6-8979-3f7ac06c82e9",
   "metadata": {},
   "outputs": [
    {
     "name": "stdout",
     "output_type": "stream",
     "text": [
      "Model saved at ./data/models\\CN_CNN16.pkl\n"
     ]
    }
   ],
   "source": [
    "\n",
    "# Save the model\n",
    "model_path = os.path.join(model_dir, 'CN_CNN16.pkl')\n",
    "torch.save(model_cnn.state_dict(), model_path)\n",
    "print(f\"Model saved at {model_path}\")\n"
   ]
  },
  {
   "cell_type": "code",
   "execution_count": 51,
   "id": "bbdb5276-2480-4c67-934d-8f7a517e20b5",
   "metadata": {},
   "outputs": [],
   "source": [
    "# Load the pre-trained model\n",
    "model_cnn = CNN(input_size=16)"
   ]
  },
  {
   "cell_type": "code",
   "execution_count": 52,
   "id": "945c56a7-1cb3-4fb0-a6bd-ec1eaeeaf6f9",
   "metadata": {},
   "outputs": [],
   "source": [
    "\n",
    "# Load the model weights\n",
    "model_path = os.path.join(model_dir, 'CN_CNN16.pkl')\n",
    "\n",
    "try:\n",
    "    model_cnn.load_state_dict(torch.load(model_path))\n",
    "    model_cnn.eval()\n",
    "except FileNotFoundError:\n",
    "    print(f\"Model file not found at {model_path}. Please check the file path or create a new model.\")"
   ]
  },
  {
   "cell_type": "code",
   "execution_count": 53,
   "id": "4962e6d6-ba8a-43a9-91df-728f64849a12",
   "metadata": {},
   "outputs": [],
   "source": [
    "\n",
    "# List of Western Balkan countries \n",
    "countries = ['Kosovo', 'Montenegro', 'North Macedonia', 'Albania', 'Bosnia and Herzegovina', 'Serbia']"
   ]
  },
  {
   "cell_type": "code",
   "execution_count": 54,
   "id": "faa7d8ad-b10e-4a36-a5d2-adc1e830566f",
   "metadata": {},
   "outputs": [
    {
     "name": "stdout",
     "output_type": "stream",
     "text": [
      "Predictions for Kosovo:\n",
      "   Year Country  Total Population\n",
      "0  1960  Kosovo          947000.0\n",
      "1  1961  Kosovo          966000.0\n",
      "2  1962  Kosovo          994000.0\n",
      "3  1963  Kosovo         1022000.0\n",
      "4  1964  Kosovo         1050000.0\n",
      "\n",
      "\n",
      "Predictions for Montenegro:\n",
      "   Year     Country  Total Population\n",
      "0  1960  Montenegro          480579.0\n",
      "1  1961  Montenegro          491140.0\n",
      "2  1962  Montenegro          502558.0\n",
      "3  1963  Montenegro          513409.0\n",
      "4  1964  Montenegro          521753.0\n",
      "\n",
      "\n",
      "Predictions for North Macedonia:\n",
      "   Year          Country  Total Population\n",
      "0  1960  North Macedonia         1462368.0\n",
      "1  1961  North Macedonia         1481112.0\n",
      "2  1962  North Macedonia         1497338.0\n",
      "3  1963  North Macedonia         1511854.0\n",
      "4  1964  North Macedonia         1529507.0\n",
      "\n",
      "\n",
      "Predictions for Albania:\n",
      "   Year  Country  Total Population\n",
      "0  1960  Albania         1608800.0\n",
      "1  1961  Albania         1659800.0\n",
      "2  1962  Albania         1711319.0\n",
      "3  1963  Albania         1762621.0\n",
      "4  1964  Albania         1814135.0\n",
      "\n",
      "\n",
      "Predictions for Bosnia and Herzegovina:\n",
      "   Year                 Country  Total Population\n",
      "0  1960  Bosnia and Herzegovina         3262539.0\n",
      "1  1961  Bosnia and Herzegovina         3325333.0\n",
      "2  1962  Bosnia and Herzegovina         3387512.0\n",
      "3  1963  Bosnia and Herzegovina         3448532.0\n",
      "4  1964  Bosnia and Herzegovina         3507959.0\n",
      "\n",
      "\n",
      "Predictions for Serbia:\n",
      "   Year Country  Total Population\n",
      "0  1960  Serbia         6608000.0\n",
      "1  1961  Serbia         6655000.0\n",
      "2  1962  Serbia         6696000.0\n",
      "3  1963  Serbia         6732000.0\n",
      "4  1964  Serbia         6765000.0\n",
      "\n",
      "\n"
     ]
    }
   ],
   "source": [
    "# Prepare a DataFrame to store the results\n",
    "all_predictions = []\n",
    "\n",
    "for country in countries:\n",
    "    # Prepare data for CNN\n",
    "    length = 16\n",
    "    X_cnn = np.zeros((22, 1, length))  # 22 because we need historical data + 21 future years\n",
    "    Y_cnn = np.zeros(21)  # 21 future years\n",
    "\n",
    "    # Use the target country for the CNN\n",
    "    cn_data = balkan_data_clean[['Year', country]].dropna()\n",
    "    years_cnn = cn_data['Year'].values\n",
    "    population_cnn = cn_data[country].values\n",
    "\n",
    "    # Normalize the historical data\n",
    "    X_cnn[0, 0] = (population_cnn[-length:] - population_cnn.min()) / (population_cnn.max() - population_cnn.min())\n",
    "\n",
    "    # Predict future populations\n",
    "    for i in range(21):  # Adjusted loop to match length of Y_cnn and future_years_cnn\n",
    "        next_pred = (model_cnn(torch.from_numpy(X_cnn[i].reshape(1, 1, length)).to(torch.float32))).detach().numpy().flatten()\n",
    "        X_cnn[i + 1, :, :length - 1] = X_cnn[i, :, -(length - 1):]\n",
    "        X_cnn[i + 1, :, -1] = next_pred\n",
    "        Y_cnn[i] = next_pred[0]  # Extract the scalar value\n",
    "\n",
    "    # Generate future years and future population values\n",
    "    future_years_cnn = np.arange(2030, 2051)\n",
    "    future_population_values = Y_cnn * (population_cnn.max() - population_cnn.min()) + population_cnn.min()\n",
    "    future_population_cnn = np.concatenate((population_cnn, future_population_values))\n",
    "\n",
    "    # Adjust lengths of arrays for DataFrame creation\n",
    "    years_combined = np.concatenate((years_cnn, future_years_cnn))\n",
    "\n",
    "    # Make sure `years_combined` and `future_population_cnn` are the same length\n",
    "    if len(years_combined) != len(future_population_cnn):\n",
    "        raise ValueError(f\"Mismatch in lengths for {country}: years_combined has length {len(years_combined)}, but future_population_cnn has length {len(future_population_cnn)}\")\n",
    "\n",
    "    # Create the DataFrame for the current country\n",
    "    pred_cnn_data = pd.DataFrame({'Year': years_combined, 'Country': country, 'Total Population': future_population_cnn})\n",
    "\n",
    "    # Append the results to the all_predictions list\n",
    "    all_predictions.append(pred_cnn_data)\n",
    "\n",
    "# Iterate through all_predictions and print each DataFrame\n",
    "for idx, pred_df in enumerate(all_predictions):\n",
    "    country = countries[idx]\n",
    "    print(f\"Predictions for {country}:\")\n",
    "    print(pred_df.head())  # Display the first few rows of each DataFrame\n",
    "    print(\"\\n\")\n"
   ]
  },
  {
   "cell_type": "code",
   "execution_count": 32,
   "id": "9bf769c0-37b1-47ad-840f-eba8b70661fa",
   "metadata": {},
   "outputs": [
    {
     "name": "stdout",
     "output_type": "stream",
     "text": [
      "Kosovo Population Predictions:\n",
      "2030 Population: 807,541\n",
      "2040 Population: 810,766\n",
      "2050 Population: 780,724\n",
      "\n",
      "Montenegro Population Predictions:\n",
      "2030 Population: 464,511\n",
      "2040 Population: 465,202\n",
      "2050 Population: 460,208\n",
      "\n",
      "North Macedonia Population Predictions:\n",
      "2030 Population: 1,392,300\n",
      "2040 Population: 1,395,953\n",
      "2050 Population: 1,374,135\n",
      "\n",
      "Albania Population Predictions:\n",
      "2030 Population: 1,403,866\n",
      "2040 Population: 1,407,469\n",
      "2050 Population: 1,363,918\n",
      "\n",
      "Bosnia and Herzegovina Population Predictions:\n",
      "2030 Population: 3,095,081\n",
      "2040 Population: 3,097,767\n",
      "2050 Population: 3,080,007\n",
      "\n",
      "Serbia Population Predictions:\n",
      "2030 Population: 6,461,250\n",
      "2040 Population: 6,467,434\n",
      "2050 Population: 6,442,778\n",
      "\n"
     ]
    }
   ],
   "source": [
    "\n",
    "# Display future population predictions for each country\n",
    "for country in countries:\n",
    "    country_data = all_predictions_df[all_predictions_df['Country'] == country]\n",
    "    print(f\"{country} Population Predictions:\")\n",
    "    print(f\"2030 Population: {country_data[country_data['Year'] == 2030]['Total Population'].values[0]:,.0f}\")\n",
    "    print(f\"2040 Population: {country_data[country_data['Year'] == 2040]['Total Population'].values[0]:,.0f}\")\n",
    "    print(f\"2050 Population: {country_data[country_data['Year'] == 2050]['Total Population'].values[0]:,.0f}\")\n",
    "    print()\n"
   ]
  },
  {
   "cell_type": "code",
   "execution_count": 55,
   "id": "dd3ed522-9fc5-41fb-844f-6b5c317b59e9",
   "metadata": {},
   "outputs": [],
   "source": [
    "\n",
    "# Combine predictions for all countries into one DataFrame\n",
    "all_predictions_df = pd.concat(all_predictions, ignore_index=True)"
   ]
  },
  {
   "cell_type": "code",
   "execution_count": 61,
   "id": "8cb2335b-5d89-418e-a887-09ab8024d059",
   "metadata": {},
   "outputs": [
    {
     "data": {
      "application/vnd.plotly.v1+json": {
       "config": {
        "plotlyServerURL": "https://plot.ly"
       },
       "data": [
        {
         "hovertemplate": "Country=Kosovo<br>Year=%{x}<br>Total Population=%{y}<extra></extra>",
         "legendgroup": "Kosovo",
         "line": {
          "color": "purple",
          "dash": "solid"
         },
         "marker": {
          "symbol": "circle"
         },
         "mode": "lines",
         "name": "Kosovo",
         "orientation": "v",
         "showlegend": true,
         "type": "scatter",
         "x": [
          1960,
          1961,
          1962,
          1963,
          1964,
          1965,
          1966,
          1967,
          1968,
          1969,
          1970,
          1971,
          1972,
          1973,
          1974,
          1975,
          1976,
          1977,
          1978,
          1979,
          1980,
          1981,
          1982,
          1983,
          1984,
          1985,
          1986,
          1987,
          1988,
          1989,
          1990,
          1991,
          1992,
          1993,
          1994,
          1995,
          1996,
          1997,
          1998,
          1999,
          2000,
          2001,
          2002,
          2003,
          2004,
          2005,
          2006,
          2007,
          2008,
          2009,
          2010,
          2011,
          2012,
          2013,
          2014,
          2015,
          2016,
          2017,
          2018,
          2019,
          2020,
          2021,
          2030,
          2031,
          2032,
          2033,
          2034,
          2035,
          2036,
          2037,
          2038,
          2039,
          2040,
          2041,
          2042,
          2043,
          2044,
          2045,
          2046,
          2047,
          2048,
          2049,
          2050
         ],
         "xaxis": "x",
         "y": [
          947000,
          966000,
          994000,
          1022000,
          1050000,
          1078000,
          1106000,
          1135000,
          1163000,
          1191000,
          1219000,
          1247000,
          1278000,
          1308000,
          1339000,
          1369000,
          1400000,
          1430000,
          1460000,
          1491000,
          1521000,
          1552000,
          1582000,
          1614000,
          1647000,
          1682000,
          1717000,
          1753000,
          1791000,
          1827000,
          1862000,
          1898000,
          1932000,
          1965000,
          1997000,
          2029000,
          2059000,
          2086000,
          1966000,
          1762000,
          1700000,
          1701154,
          1702310,
          1703466,
          1704622,
          1705780,
          1719536,
          1733404,
          1747383,
          1761474,
          1775680,
          1791000,
          1807106,
          1818117,
          1812771,
          1788196,
          1777557,
          1791003,
          1797085,
          1788878,
          1790133,
          1786038,
          933411.7172285914,
          927823.2246115804,
          927688.3277967572,
          943863.3350655437,
          936482.8092083335,
          937006.8836733699,
          935959.7191438079,
          936946.1733177304,
          943592.4976319075,
          937993.7451854348,
          951841.5278121829,
          940483.5486635566,
          950269.0158858895,
          941402.511999011,
          945177.6370406151,
          964950.9676247835,
          970949.5903477073,
          970695.4962089658,
          970412.0397791266,
          969966.029971838,
          969363.3647039533
         ],
         "yaxis": "y"
        },
        {
         "hovertemplate": "Country=Montenegro<br>Year=%{x}<br>Total Population=%{y}<extra></extra>",
         "legendgroup": "Montenegro",
         "line": {
          "color": "orange",
          "dash": "solid"
         },
         "marker": {
          "symbol": "circle"
         },
         "mode": "lines",
         "name": "Montenegro",
         "orientation": "v",
         "showlegend": true,
         "type": "scatter",
         "x": [
          1960,
          1961,
          1962,
          1963,
          1964,
          1965,
          1966,
          1967,
          1968,
          1969,
          1970,
          1971,
          1972,
          1973,
          1974,
          1975,
          1976,
          1977,
          1978,
          1979,
          1980,
          1981,
          1982,
          1983,
          1984,
          1985,
          1986,
          1987,
          1988,
          1989,
          1990,
          1991,
          1992,
          1993,
          1994,
          1995,
          1996,
          1997,
          1998,
          1999,
          2000,
          2001,
          2002,
          2003,
          2004,
          2005,
          2006,
          2007,
          2008,
          2009,
          2010,
          2011,
          2012,
          2013,
          2014,
          2015,
          2016,
          2017,
          2018,
          2019,
          2020,
          2021,
          2030,
          2031,
          2032,
          2033,
          2034,
          2035,
          2036,
          2037,
          2038,
          2039,
          2040,
          2041,
          2042,
          2043,
          2044,
          2045,
          2046,
          2047,
          2048,
          2049,
          2050
         ],
         "xaxis": "x",
         "y": [
          480579,
          491140,
          502558,
          513409,
          521753,
          526327,
          526419,
          522796,
          517481,
          513340,
          512407,
          515449,
          521785,
          530220,
          538902,
          546487,
          552562,
          557576,
          562065,
          566888,
          572608,
          579445,
          587001,
          594506,
          600884,
          605398,
          607711,
          608144,
          607413,
          606571,
          606372,
          607105,
          608516,
          610170,
          611389,
          611712,
          611003,
          609520,
          607662,
          606001,
          604950,
          607389,
          609828,
          612267,
          613353,
          614261,
          615025,
          615875,
          616969,
          618294,
          619428,
          620079,
          620601,
          621207,
          621810,
          622159,
          622303,
          622373,
          622227,
          622028,
          621306,
          619211,
          477656.55104741454,
          476437.1263035685,
          476430.487586692,
          479278.07454766333,
          478699.9420363754,
          478843.8333722651,
          478932.7101980746,
          478649.1490910053,
          478842.6036672294,
          477631.0610791147,
          479682.41931171715,
          478028.0070122257,
          481100.1815327108,
          479306.73280239105,
          479379.8072846234,
          482200.288968876,
          483614.30608303845,
          483577.9336477518,
          483583.5391588509,
          483548.14499406517,
          483420.3106056303
         ],
         "yaxis": "y"
        },
        {
         "hovertemplate": "Country=North Macedonia<br>Year=%{x}<br>Total Population=%{y}<extra></extra>",
         "legendgroup": "North Macedonia",
         "line": {
          "color": "cyan",
          "dash": "solid"
         },
         "marker": {
          "symbol": "circle"
         },
         "mode": "lines",
         "name": "North Macedonia",
         "orientation": "v",
         "showlegend": true,
         "type": "scatter",
         "x": [
          1960,
          1961,
          1962,
          1963,
          1964,
          1965,
          1966,
          1967,
          1968,
          1969,
          1970,
          1971,
          1972,
          1973,
          1974,
          1975,
          1976,
          1977,
          1978,
          1979,
          1980,
          1981,
          1982,
          1983,
          1984,
          1985,
          1986,
          1987,
          1988,
          1989,
          1990,
          1991,
          1992,
          1993,
          1994,
          1995,
          1996,
          1997,
          1998,
          1999,
          2000,
          2001,
          2002,
          2003,
          2004,
          2005,
          2006,
          2007,
          2008,
          2009,
          2010,
          2011,
          2012,
          2013,
          2014,
          2015,
          2016,
          2017,
          2018,
          2019,
          2020,
          2021,
          2030,
          2031,
          2032,
          2033,
          2034,
          2035,
          2036,
          2037,
          2038,
          2039,
          2040,
          2041,
          2042,
          2043,
          2044,
          2045,
          2046,
          2047,
          2048,
          2049,
          2050
         ],
         "xaxis": "x",
         "y": [
          1462368,
          1481112,
          1497338,
          1511854,
          1529507,
          1547982,
          1567707,
          1588649,
          1610537,
          1633502,
          1656783,
          1679012,
          1701498,
          1725228,
          1749329,
          1774013,
          1799332,
          1825299,
          1851978,
          1879354,
          1907023,
          1935200,
          1958275,
          1974441,
          1988682,
          2001504,
          2012926,
          2023097,
          2031932,
          2039426,
          2044174,
          2036686,
          2018023,
          1996893,
          1982458,
          1983964,
          1994226,
          1996869,
          2007523,
          2017142,
          2026350,
          2034882,
          2020157,
          2026773,
          2032544,
          2036855,
          2040228,
          2043559,
          2046898,
          2050671,
          2055004,
          2058539,
          2061044,
          2064032,
          2067471,
          2070226,
          2072490,
          2074502,
          2076217,
          2076694,
          2072531,
          2065092,
          1450035.6041479036,
          1444820.6401343495,
          1444878.7485217378,
          1457243.8796884418,
          1454685.0097611696,
          1455348.6505239755,
          1455560.8533561677,
          1454301.9809485823,
          1455074.5059953928,
          1449676.364736557,
          1458532.7548906654,
          1451319.5521177202,
          1464503.892313525,
          1456775.0900271684,
          1457094.872674033,
          1469335.747415498,
          1475514.2634225637,
          1475355.5072163045,
          1475378.1225951463,
          1475224.8360059112,
          1474674.793925047
         ],
         "yaxis": "y"
        },
        {
         "hovertemplate": "Country=Albania<br>Year=%{x}<br>Total Population=%{y}<extra></extra>",
         "legendgroup": "Albania",
         "line": {
          "color": "blue",
          "dash": "solid"
         },
         "marker": {
          "symbol": "circle"
         },
         "mode": "lines",
         "name": "Albania",
         "orientation": "v",
         "showlegend": true,
         "type": "scatter",
         "x": [
          1960,
          1961,
          1962,
          1963,
          1964,
          1965,
          1966,
          1967,
          1968,
          1969,
          1970,
          1971,
          1972,
          1973,
          1974,
          1975,
          1976,
          1977,
          1978,
          1979,
          1980,
          1981,
          1982,
          1983,
          1984,
          1985,
          1986,
          1987,
          1988,
          1989,
          1990,
          1991,
          1992,
          1993,
          1994,
          1995,
          1996,
          1997,
          1998,
          1999,
          2000,
          2001,
          2002,
          2003,
          2004,
          2005,
          2006,
          2007,
          2008,
          2009,
          2010,
          2011,
          2012,
          2013,
          2014,
          2015,
          2016,
          2017,
          2018,
          2019,
          2020,
          2021,
          2030,
          2031,
          2032,
          2033,
          2034,
          2035,
          2036,
          2037,
          2038,
          2039,
          2040,
          2041,
          2042,
          2043,
          2044,
          2045,
          2046,
          2047,
          2048,
          2049,
          2050
         ],
         "xaxis": "x",
         "y": [
          1608800,
          1659800,
          1711319,
          1762621,
          1814135,
          1864791,
          1914573,
          1965598,
          2022272,
          2081695,
          2135479,
          2187853,
          2243126,
          2296752,
          2350124,
          2404831,
          2458526,
          2513546,
          2566266,
          2617832,
          2671997,
          2726056,
          2784278,
          2843960,
          2904429,
          2964762,
          3022635,
          3083605,
          3142336,
          3227943,
          3286542,
          3266790,
          3247039,
          3227287,
          3207536,
          3187784,
          3168033,
          3148281,
          3128530,
          3108778,
          3089027,
          3060173,
          3051010,
          3039616,
          3026939,
          3011487,
          2992547,
          2970017,
          2947314,
          2927519,
          2913021,
          2905195,
          2900401,
          2895092,
          2889104,
          2880703,
          2876101,
          2873457,
          2866376,
          2854191,
          2837849,
          2811666,
          1580249.50909888,
          1574083.7653783709,
          1575527.8954378366,
          1600744.0395459682,
          1590597.4661717564,
          1592212.5483098626,
          1591754.0677351058,
          1593454.5259113163,
          1602093.6309559196,
          1594715.6412454695,
          1614720.9844944328,
          1599184.6080845296,
          1613279.6919694692,
          1601835.5778182,
          1607263.5188176185,
          1635843.866331771,
          1644111.4043584168,
          1643698.961843446,
          1643261.2690214515,
          1642664.199261561,
          1641762.8133014292
         ],
         "yaxis": "y"
        },
        {
         "hovertemplate": "Country=Bosnia and Herzegovina<br>Year=%{x}<br>Total Population=%{y}<extra></extra>",
         "legendgroup": "Bosnia and Herzegovina",
         "line": {
          "color": "green",
          "dash": "solid"
         },
         "marker": {
          "symbol": "circle"
         },
         "mode": "lines",
         "name": "Bosnia and Herzegovina",
         "orientation": "v",
         "showlegend": true,
         "type": "scatter",
         "x": [
          1960,
          1961,
          1962,
          1963,
          1964,
          1965,
          1966,
          1967,
          1968,
          1969,
          1970,
          1971,
          1972,
          1973,
          1974,
          1975,
          1976,
          1977,
          1978,
          1979,
          1980,
          1981,
          1982,
          1983,
          1984,
          1985,
          1986,
          1987,
          1988,
          1989,
          1990,
          1991,
          1992,
          1993,
          1994,
          1995,
          1996,
          1997,
          1998,
          1999,
          2000,
          2001,
          2002,
          2003,
          2004,
          2005,
          2006,
          2007,
          2008,
          2009,
          2010,
          2011,
          2012,
          2013,
          2014,
          2015,
          2016,
          2017,
          2018,
          2019,
          2020,
          2021,
          2030,
          2031,
          2032,
          2033,
          2034,
          2035,
          2036,
          2037,
          2038,
          2039,
          2040,
          2041,
          2042,
          2043,
          2044,
          2045,
          2046,
          2047,
          2048,
          2049,
          2050
         ],
         "xaxis": "x",
         "y": [
          3262539,
          3325333,
          3387512,
          3448532,
          3507959,
          3565517,
          3620849,
          3673367,
          3723067,
          3770376,
          3815561,
          3859242,
          3901895,
          3943152,
          3983063,
          4022090,
          4060039,
          4096516,
          4131521,
          4165511,
          4199820,
          4235970,
          4274013,
          4312521,
          4349597,
          4383306,
          4413374,
          4440300,
          4463320,
          4481230,
          4494310,
          4502386,
          4275730,
          3942981,
          3762330,
          3750527,
          3907751,
          4047748,
          4115059,
          4153014,
          4179350,
          4194932,
          4198410,
          4183757,
          4142860,
          4094297,
          4058086,
          4007876,
          3943392,
          3877750,
          3811088,
          3743142,
          3674374,
          3617559,
          3571068,
          3524324,
          3480986,
          3440027,
          3400129,
          3360711,
          3318407,
          3270943,
          3251739.1789439768,
          3255795.8899143115,
          3261493.2874686867,
          3267432.6911439374,
          3272562.5225454494,
          3276207.967216544,
          3278878.6439707354,
          3280820.6234641,
          3281892.8478500172,
          3283080.7821630314,
          3283878.1238808483,
          3284771.120739579,
          3285320.95073884,
          3285932.9034636095,
          3286313.9259259254,
          3286785.7537996545,
          3286702.2645516023,
          3286596.568161227,
          3286510.9542697743,
          3286420.102670461,
          3286322.6369638667
         ],
         "yaxis": "y"
        },
        {
         "hovertemplate": "Country=Serbia<br>Year=%{x}<br>Total Population=%{y}<extra></extra>",
         "legendgroup": "Serbia",
         "line": {
          "color": "magenta",
          "dash": "solid"
         },
         "marker": {
          "symbol": "circle"
         },
         "mode": "lines",
         "name": "Serbia",
         "orientation": "v",
         "showlegend": true,
         "type": "scatter",
         "x": [
          1960,
          1961,
          1962,
          1963,
          1964,
          1965,
          1966,
          1967,
          1968,
          1969,
          1970,
          1971,
          1972,
          1973,
          1974,
          1975,
          1976,
          1977,
          1978,
          1979,
          1980,
          1981,
          1982,
          1983,
          1984,
          1985,
          1986,
          1987,
          1988,
          1989,
          1990,
          1991,
          1992,
          1993,
          1994,
          1995,
          1996,
          1997,
          1998,
          1999,
          2000,
          2001,
          2002,
          2003,
          2004,
          2005,
          2006,
          2007,
          2008,
          2009,
          2010,
          2011,
          2012,
          2013,
          2014,
          2015,
          2016,
          2017,
          2018,
          2019,
          2020,
          2021,
          2030,
          2031,
          2032,
          2033,
          2034,
          2035,
          2036,
          2037,
          2038,
          2039,
          2040,
          2041,
          2042,
          2043,
          2044,
          2045,
          2046,
          2047,
          2048,
          2049,
          2050
         ],
         "xaxis": "x",
         "y": [
          6608000,
          6655000,
          6696000,
          6732000,
          6765000,
          6794000,
          6841000,
          6880000,
          6915000,
          6945000,
          6972000,
          7013000,
          7053000,
          7091000,
          7128000,
          7163000,
          7214000,
          7258000,
          7297000,
          7332000,
          7362000,
          7405000,
          7440000,
          7468000,
          7489000,
          7504000,
          7536000,
          7558000,
          7572000,
          7581000,
          7586000,
          7595636,
          7646424,
          7699307,
          7734639,
          7625357,
          7617794,
          7596501,
          7567745,
          7540401,
          7516346,
          7503433,
          7496522,
          7480591,
          7463157,
          7440769,
          7411569,
          7381579,
          7350222,
          7320807,
          7291436,
          7234099,
          7199077,
          7164132,
          7130576,
          7095383,
          7058322,
          7020858,
          6982604,
          6945235,
          6899126,
          6834326,
          6586312.893980507,
          6588875.361169718,
          6591857.303254433,
          6596567.543185659,
          6598827.255643897,
          6604127.45074258,
          6603461.831025459,
          6610490.181270704,
          6614717.264355458,
          6618921.649754137,
          6624572.584540322,
          6624367.709383495,
          6625871.086927339,
          6626471.946049757,
          6627700.96195551,
          6628405.807370499,
          6630727.073871635,
          6630476.190572284,
          6630289.941955917,
          6630050.978299402,
          6629945.783254318
         ],
         "yaxis": "y"
        }
       ],
       "layout": {
        "autosize": true,
        "legend": {
         "title": {
          "text": "Country"
         },
         "tracegroupgap": 0
        },
        "template": {
         "data": {
          "candlestick": [
           {
            "decreasing": {
             "line": {
              "color": "#000033"
             }
            },
            "increasing": {
             "line": {
              "color": "#000032"
             }
            },
            "type": "candlestick"
           }
          ],
          "contour": [
           {
            "colorscale": [
             [
              0,
              "#000011"
             ],
             [
              0.1111111111111111,
              "#000012"
             ],
             [
              0.2222222222222222,
              "#000013"
             ],
             [
              0.3333333333333333,
              "#000014"
             ],
             [
              0.4444444444444444,
              "#000015"
             ],
             [
              0.5555555555555556,
              "#000016"
             ],
             [
              0.6666666666666666,
              "#000017"
             ],
             [
              0.7777777777777778,
              "#000018"
             ],
             [
              0.8888888888888888,
              "#000019"
             ],
             [
              1,
              "#000020"
             ]
            ],
            "type": "contour"
           }
          ],
          "contourcarpet": [
           {
            "colorscale": [
             [
              0,
              "#000011"
             ],
             [
              0.1111111111111111,
              "#000012"
             ],
             [
              0.2222222222222222,
              "#000013"
             ],
             [
              0.3333333333333333,
              "#000014"
             ],
             [
              0.4444444444444444,
              "#000015"
             ],
             [
              0.5555555555555556,
              "#000016"
             ],
             [
              0.6666666666666666,
              "#000017"
             ],
             [
              0.7777777777777778,
              "#000018"
             ],
             [
              0.8888888888888888,
              "#000019"
             ],
             [
              1,
              "#000020"
             ]
            ],
            "type": "contourcarpet"
           }
          ],
          "heatmap": [
           {
            "colorscale": [
             [
              0,
              "#000011"
             ],
             [
              0.1111111111111111,
              "#000012"
             ],
             [
              0.2222222222222222,
              "#000013"
             ],
             [
              0.3333333333333333,
              "#000014"
             ],
             [
              0.4444444444444444,
              "#000015"
             ],
             [
              0.5555555555555556,
              "#000016"
             ],
             [
              0.6666666666666666,
              "#000017"
             ],
             [
              0.7777777777777778,
              "#000018"
             ],
             [
              0.8888888888888888,
              "#000019"
             ],
             [
              1,
              "#000020"
             ]
            ],
            "type": "heatmap"
           }
          ],
          "histogram2d": [
           {
            "colorscale": [
             [
              0,
              "#000011"
             ],
             [
              0.1111111111111111,
              "#000012"
             ],
             [
              0.2222222222222222,
              "#000013"
             ],
             [
              0.3333333333333333,
              "#000014"
             ],
             [
              0.4444444444444444,
              "#000015"
             ],
             [
              0.5555555555555556,
              "#000016"
             ],
             [
              0.6666666666666666,
              "#000017"
             ],
             [
              0.7777777777777778,
              "#000018"
             ],
             [
              0.8888888888888888,
              "#000019"
             ],
             [
              1,
              "#000020"
             ]
            ],
            "type": "histogram2d"
           }
          ],
          "icicle": [
           {
            "textfont": {
             "color": "white"
            },
            "type": "icicle"
           }
          ],
          "sankey": [
           {
            "textfont": {
             "color": "#000036"
            },
            "type": "sankey"
           }
          ],
          "scatter": [
           {
            "marker": {
             "line": {
              "width": 0
             }
            },
            "type": "scatter"
           }
          ],
          "table": [
           {
            "cells": {
             "fill": {
              "color": "#000038"
             },
             "font": {
              "color": "#000037"
             },
             "line": {
              "color": "#000039"
             }
            },
            "header": {
             "fill": {
              "color": "#000040"
             },
             "font": {
              "color": "#000036"
             },
             "line": {
              "color": "#000039"
             }
            },
            "type": "table"
           }
          ],
          "waterfall": [
           {
            "connector": {
             "line": {
              "color": "#000036",
              "width": 2
             }
            },
            "decreasing": {
             "marker": {
              "color": "#000033"
             }
            },
            "increasing": {
             "marker": {
              "color": "#000032"
             }
            },
            "totals": {
             "marker": {
              "color": "#000034"
             }
            },
            "type": "waterfall"
           }
          ]
         },
         "layout": {
          "coloraxis": {
           "colorscale": [
            [
             0,
             "#000011"
            ],
            [
             0.1111111111111111,
             "#000012"
            ],
            [
             0.2222222222222222,
             "#000013"
            ],
            [
             0.3333333333333333,
             "#000014"
            ],
            [
             0.4444444444444444,
             "#000015"
            ],
            [
             0.5555555555555556,
             "#000016"
            ],
            [
             0.6666666666666666,
             "#000017"
            ],
            [
             0.7777777777777778,
             "#000018"
            ],
            [
             0.8888888888888888,
             "#000019"
            ],
            [
             1,
             "#000020"
            ]
           ]
          },
          "colorscale": {
           "diverging": [
            [
             0,
             "#000021"
            ],
            [
             0.1,
             "#000022"
            ],
            [
             0.2,
             "#000023"
            ],
            [
             0.3,
             "#000024"
            ],
            [
             0.4,
             "#000025"
            ],
            [
             0.5,
             "#000026"
            ],
            [
             0.6,
             "#000027"
            ],
            [
             0.7,
             "#000028"
            ],
            [
             0.8,
             "#000029"
            ],
            [
             0.9,
             "#000030"
            ],
            [
             1,
             "#000031"
            ]
           ],
           "sequential": [
            [
             0,
             "#000011"
            ],
            [
             0.1111111111111111,
             "#000012"
            ],
            [
             0.2222222222222222,
             "#000013"
            ],
            [
             0.3333333333333333,
             "#000014"
            ],
            [
             0.4444444444444444,
             "#000015"
            ],
            [
             0.5555555555555556,
             "#000016"
            ],
            [
             0.6666666666666666,
             "#000017"
            ],
            [
             0.7777777777777778,
             "#000018"
            ],
            [
             0.8888888888888888,
             "#000019"
            ],
            [
             1,
             "#000020"
            ]
           ],
           "sequentialminus": [
            [
             0,
             "#000011"
            ],
            [
             0.1111111111111111,
             "#000012"
            ],
            [
             0.2222222222222222,
             "#000013"
            ],
            [
             0.3333333333333333,
             "#000014"
            ],
            [
             0.4444444444444444,
             "#000015"
            ],
            [
             0.5555555555555556,
             "#000016"
            ],
            [
             0.6666666666666666,
             "#000017"
            ],
            [
             0.7777777777777778,
             "#000018"
            ],
            [
             0.8888888888888888,
             "#000019"
            ],
            [
             1,
             "#000020"
            ]
           ]
          },
          "colorway": [
           "#000001",
           "#000002",
           "#000003",
           "#000004",
           "#000005",
           "#000006",
           "#000007",
           "#000008",
           "#000009",
           "#000010"
          ]
         }
        },
        "title": {
         "text": "Western Balkan Countries Population Prediction (CNN)"
        },
        "xaxis": {
         "anchor": "y",
         "autorange": true,
         "domain": [
          0,
          1
         ],
         "range": [
          1960,
          2050
         ],
         "title": {
          "text": "Year"
         },
         "type": "linear"
        },
        "yaxis": {
         "anchor": "x",
         "autorange": true,
         "domain": [
          0,
          1
         ],
         "range": [
          73196.68134150817,
          8137872.806245184
         ],
         "title": {
          "text": "Total Population"
         },
         "type": "linear"
        }
       }
      },
      "image/png": "[encoded data removed]",
      "text/html": [
       "<div>                            <div id=\"81fc9683-2d1a-4e67-8f29-200548bace75\" class=\"plotly-graph-div\" style=\"height:525px; width:100%;\"></div>            <script type=\"text/javascript\">                require([\"plotly\"], function(Plotly) {                    window.PLOTLYENV=window.PLOTLYENV || {};                                    if (document.getElementById(\"81fc9683-2d1a-4e67-8f29-200548bace75\")) {                    Plotly.newPlot(                        \"81fc9683-2d1a-4e67-8f29-200548bace75\",                        [{\"hovertemplate\":\"Country=Kosovo\\u003cbr\\u003eYear=%{x}\\u003cbr\\u003eTotal Population=%{y}\\u003cextra\\u003e\\u003c\\u002fextra\\u003e\",\"legendgroup\":\"Kosovo\",\"line\":{\"color\":\"purple\",\"dash\":\"solid\"},\"marker\":{\"symbol\":\"circle\"},\"mode\":\"lines\",\"name\":\"Kosovo\",\"orientation\":\"v\",\"showlegend\":true,\"x\":[1960,1961,1962,1963,1964,1965,1966,1967,1968,1969,1970,1971,1972,1973,1974,1975,1976,1977,1978,1979,1980,1981,1982,1983,1984,1985,1986,1987,1988,1989,1990,1991,1992,1993,1994,1995,1996,1997,1998,1999,2000,2001,2002,2003,2004,2005,2006,2007,2008,2009,2010,2011,2012,2013,2014,2015,2016,2017,2018,2019,2020,2021,2030,2031,2032,2033,2034,2035,2036,2037,2038,2039,2040,2041,2042,2043,2044,2045,2046,2047,2048,2049,2050],\"xaxis\":\"x\",\"y\":[947000.0,966000.0,994000.0,1022000.0,1050000.0,1078000.0,1106000.0,1135000.0,1163000.0,1191000.0,1219000.0,1247000.0,1278000.0,1308000.0,1339000.0,1369000.0,1400000.0,1430000.0,1460000.0,1491000.0,1521000.0,1552000.0,1582000.0,1614000.0,1647000.0,1682000.0,1717000.0,1753000.0,1791000.0,1827000.0,1862000.0,1898000.0,1932000.0,1965000.0,1997000.0,2029000.0,2059000.0,2086000.0,1966000.0,1762000.0,1700000.0,1701154.0,1702310.0,1703466.0,1704622.0,1705780.0,1719536.0,1733404.0,1747383.0,1761474.0,1775680.0,1791000.0,1807106.0,1818117.0,1812771.0,1788196.0,1777557.0,1791003.0,1797085.0,1788878.0,1790133.0,1786038.0,933411.7172285914,927823.2246115804,927688.3277967572,943863.3350655437,936482.8092083335,937006.8836733699,935959.7191438079,936946.1733177304,943592.4976319075,937993.7451854348,951841.5278121829,940483.5486635566,950269.0158858895,941402.511999011,945177.6370406151,964950.9676247835,970949.5903477073,970695.4962089658,970412.0397791266,969966.029971838,969363.3647039533],\"yaxis\":\"y\",\"type\":\"scatter\"},{\"hovertemplate\":\"Country=Montenegro\\u003cbr\\u003eYear=%{x}\\u003cbr\\u003eTotal Population=%{y}\\u003cextra\\u003e\\u003c\\u002fextra\\u003e\",\"legendgroup\":\"Montenegro\",\"line\":{\"color\":\"orange\",\"dash\":\"solid\"},\"marker\":{\"symbol\":\"circle\"},\"mode\":\"lines\",\"name\":\"Montenegro\",\"orientation\":\"v\",\"showlegend\":true,\"x\":[1960,1961,1962,1963,1964,1965,1966,1967,1968,1969,1970,1971,1972,1973,1974,1975,1976,1977,1978,1979,1980,1981,1982,1983,1984,1985,1986,1987,1988,1989,1990,1991,1992,1993,1994,1995,1996,1997,1998,1999,2000,2001,2002,2003,2004,2005,2006,2007,2008,2009,2010,2011,2012,2013,2014,2015,2016,2017,2018,2019,2020,2021,2030,2031,2032,2033,2034,2035,2036,2037,2038,2039,2040,2041,2042,2043,2044,2045,2046,2047,2048,2049,2050],\"xaxis\":\"x\",\"y\":[480579.0,491140.0,502558.0,513409.0,521753.0,526327.0,526419.0,522796.0,517481.0,513340.0,512407.0,515449.0,521785.0,530220.0,538902.0,546487.0,552562.0,557576.0,562065.0,566888.0,572608.0,579445.0,587001.0,594506.0,600884.0,605398.0,607711.0,608144.0,607413.0,606571.0,606372.0,607105.0,608516.0,610170.0,611389.0,611712.0,611003.0,609520.0,607662.0,606001.0,604950.0,607389.0,609828.0,612267.0,613353.0,614261.0,615025.0,615875.0,616969.0,618294.0,619428.0,620079.0,620601.0,621207.0,621810.0,622159.0,622303.0,622373.0,622227.0,622028.0,621306.0,619211.0,477656.55104741454,476437.1263035685,476430.487586692,479278.07454766333,478699.9420363754,478843.8333722651,478932.7101980746,478649.1490910053,478842.6036672294,477631.0610791147,479682.41931171715,478028.0070122257,481100.1815327108,479306.73280239105,479379.8072846234,482200.288968876,483614.30608303845,483577.9336477518,483583.5391588509,483548.14499406517,483420.3106056303],\"yaxis\":\"y\",\"type\":\"scatter\"},{\"hovertemplate\":\"Country=North Macedonia\\u003cbr\\u003eYear=%{x}\\u003cbr\\u003eTotal Population=%{y}\\u003cextra\\u003e\\u003c\\u002fextra\\u003e\",\"legendgroup\":\"North Macedonia\",\"line\":{\"color\":\"cyan\",\"dash\":\"solid\"},\"marker\":{\"symbol\":\"circle\"},\"mode\":\"lines\",\"name\":\"North Macedonia\",\"orientation\":\"v\",\"showlegend\":true,\"x\":[1960,1961,1962,1963,1964,1965,1966,1967,1968,1969,1970,1971,1972,1973,1974,1975,1976,1977,1978,1979,1980,1981,1982,1983,1984,1985,1986,1987,1988,1989,1990,1991,1992,1993,1994,1995,1996,1997,1998,1999,2000,2001,2002,2003,2004,2005,2006,2007,2008,2009,2010,2011,2012,2013,2014,2015,2016,2017,2018,2019,2020,2021,2030,2031,2032,2033,2034,2035,2036,2037,2038,2039,2040,2041,2042,2043,2044,2045,2046,2047,2048,2049,2050],\"xaxis\":\"x\",\"y\":[1462368.0,1481112.0,1497338.0,1511854.0,1529507.0,1547982.0,1567707.0,1588649.0,1610537.0,1633502.0,1656783.0,1679012.0,1701498.0,1725228.0,1749329.0,1774013.0,1799332.0,1825299.0,1851978.0,1879354.0,1907023.0,1935200.0,1958275.0,1974441.0,1988682.0,2001504.0,2012926.0,2023097.0,2031932.0,2039426.0,2044174.0,2036686.0,2018023.0,1996893.0,1982458.0,1983964.0,1994226.0,1996869.0,2007523.0,2017142.0,2026350.0,2034882.0,2020157.0,2026773.0,2032544.0,2036855.0,2040228.0,2043559.0,2046898.0,2050671.0,2055004.0,2058539.0,2061044.0,2064032.0,2067471.0,2070226.0,2072490.0,2074502.0,2076217.0,2076694.0,2072531.0,2065092.0,1450035.6041479036,1444820.6401343495,1444878.7485217378,1457243.8796884418,1454685.0097611696,1455348.6505239755,1455560.8533561677,1454301.9809485823,1455074.5059953928,1449676.364736557,1458532.7548906654,1451319.5521177202,1464503.892313525,1456775.0900271684,1457094.872674033,1469335.747415498,1475514.2634225637,1475355.5072163045,1475378.1225951463,1475224.8360059112,1474674.793925047],\"yaxis\":\"y\",\"type\":\"scatter\"},{\"hovertemplate\":\"Country=Albania\\u003cbr\\u003eYear=%{x}\\u003cbr\\u003eTotal Population=%{y}\\u003cextra\\u003e\\u003c\\u002fextra\\u003e\",\"legendgroup\":\"Albania\",\"line\":{\"color\":\"blue\",\"dash\":\"solid\"},\"marker\":{\"symbol\":\"circle\"},\"mode\":\"lines\",\"name\":\"Albania\",\"orientation\":\"v\",\"showlegend\":true,\"x\":[1960,1961,1962,1963,1964,1965,1966,1967,1968,1969,1970,1971,1972,1973,1974,1975,1976,1977,1978,1979,1980,1981,1982,1983,1984,1985,1986,1987,1988,1989,1990,1991,1992,1993,1994,1995,1996,1997,1998,1999,2000,2001,2002,2003,2004,2005,2006,2007,2008,2009,2010,2011,2012,2013,2014,2015,2016,2017,2018,2019,2020,2021,2030,2031,2032,2033,2034,2035,2036,2037,2038,2039,2040,2041,2042,2043,2044,2045,2046,2047,2048,2049,2050],\"xaxis\":\"x\",\"y\":[1608800.0,1659800.0,1711319.0,1762621.0,1814135.0,1864791.0,1914573.0,1965598.0,2022272.0,2081695.0,2135479.0,2187853.0,2243126.0,2296752.0,2350124.0,2404831.0,2458526.0,2513546.0,2566266.0,2617832.0,2671997.0,2726056.0,2784278.0,2843960.0,2904429.0,2964762.0,3022635.0,3083605.0,3142336.0,3227943.0,3286542.0,3266790.0,3247039.0,3227287.0,3207536.0,3187784.0,3168033.0,3148281.0,3128530.0,3108778.0,3089027.0,3060173.0,3051010.0,3039616.0,3026939.0,3011487.0,2992547.0,2970017.0,2947314.0,2927519.0,2913021.0,2905195.0,2900401.0,2895092.0,2889104.0,2880703.0,2876101.0,2873457.0,2866376.0,2854191.0,2837849.0,2811666.0,1580249.50909888,1574083.7653783709,1575527.8954378366,1600744.0395459682,1590597.4661717564,1592212.5483098626,1591754.0677351058,1593454.5259113163,1602093.6309559196,1594715.6412454695,1614720.9844944328,1599184.6080845296,1613279.6919694692,1601835.5778182,1607263.5188176185,1635843.866331771,1644111.4043584168,1643698.961843446,1643261.2690214515,1642664.199261561,1641762.8133014292],\"yaxis\":\"y\",\"type\":\"scatter\"},{\"hovertemplate\":\"Country=Bosnia and Herzegovina\\u003cbr\\u003eYear=%{x}\\u003cbr\\u003eTotal Population=%{y}\\u003cextra\\u003e\\u003c\\u002fextra\\u003e\",\"legendgroup\":\"Bosnia and Herzegovina\",\"line\":{\"color\":\"green\",\"dash\":\"solid\"},\"marker\":{\"symbol\":\"circle\"},\"mode\":\"lines\",\"name\":\"Bosnia and Herzegovina\",\"orientation\":\"v\",\"showlegend\":true,\"x\":[1960,1961,1962,1963,1964,1965,1966,1967,1968,1969,1970,1971,1972,1973,1974,1975,1976,1977,1978,1979,1980,1981,1982,1983,1984,1985,1986,1987,1988,1989,1990,1991,1992,1993,1994,1995,1996,1997,1998,1999,2000,2001,2002,2003,2004,2005,2006,2007,2008,2009,2010,2011,2012,2013,2014,2015,2016,2017,2018,2019,2020,2021,2030,2031,2032,2033,2034,2035,2036,2037,2038,2039,2040,2041,2042,2043,2044,2045,2046,2047,2048,2049,2050],\"xaxis\":\"x\",\"y\":[3262539.0,3325333.0,3387512.0,3448532.0,3507959.0,3565517.0,3620849.0,3673367.0,3723067.0,3770376.0,3815561.0,3859242.0,3901895.0,3943152.0,3983063.0,4022090.0,4060039.0,4096516.0,4131521.0,4165511.0,4199820.0,4235970.0,4274013.0,4312521.0,4349597.0,4383306.0,4413374.0,4440300.0,4463320.0,4481230.0,4494310.0,4502386.0,4275730.0,3942981.0,3762330.0,3750527.0,3907751.0,4047748.0,4115059.0,4153014.0,4179350.0,4194932.0,4198410.0,4183757.0,4142860.0,4094297.0,4058086.0,4007876.0,3943392.0,3877750.0,3811088.0,3743142.0,3674374.0,3617559.0,3571068.0,3524324.0,3480986.0,3440027.0,3400129.0,3360711.0,3318407.0,3270943.0,3251739.1789439768,3255795.8899143115,3261493.2874686867,3267432.6911439374,3272562.5225454494,3276207.967216544,3278878.6439707354,3280820.6234641,3281892.8478500172,3283080.7821630314,3283878.1238808483,3284771.120739579,3285320.95073884,3285932.9034636095,3286313.9259259254,3286785.7537996545,3286702.2645516023,3286596.568161227,3286510.9542697743,3286420.102670461,3286322.6369638667],\"yaxis\":\"y\",\"type\":\"scatter\"},{\"hovertemplate\":\"Country=Serbia\\u003cbr\\u003eYear=%{x}\\u003cbr\\u003eTotal Population=%{y}\\u003cextra\\u003e\\u003c\\u002fextra\\u003e\",\"legendgroup\":\"Serbia\",\"line\":{\"color\":\"magenta\",\"dash\":\"solid\"},\"marker\":{\"symbol\":\"circle\"},\"mode\":\"lines\",\"name\":\"Serbia\",\"orientation\":\"v\",\"showlegend\":true,\"x\":[1960,1961,1962,1963,1964,1965,1966,1967,1968,1969,1970,1971,1972,1973,1974,1975,1976,1977,1978,1979,1980,1981,1982,1983,1984,1985,1986,1987,1988,1989,1990,1991,1992,1993,1994,1995,1996,1997,1998,1999,2000,2001,2002,2003,2004,2005,2006,2007,2008,2009,2010,2011,2012,2013,2014,2015,2016,2017,2018,2019,2020,2021,2030,2031,2032,2033,2034,2035,2036,2037,2038,2039,2040,2041,2042,2043,2044,2045,2046,2047,2048,2049,2050],\"xaxis\":\"x\",\"y\":[6608000.0,6655000.0,6696000.0,6732000.0,6765000.0,6794000.0,6841000.0,6880000.0,6915000.0,6945000.0,6972000.0,7013000.0,7053000.0,7091000.0,7128000.0,7163000.0,7214000.0,7258000.0,7297000.0,7332000.0,7362000.0,7405000.0,7440000.0,7468000.0,7489000.0,7504000.0,7536000.0,7558000.0,7572000.0,7581000.0,7586000.0,7595636.0,7646424.0,7699307.0,7734639.0,7625357.0,7617794.0,7596501.0,7567745.0,7540401.0,7516346.0,7503433.0,7496522.0,7480591.0,7463157.0,7440769.0,7411569.0,7381579.0,7350222.0,7320807.0,7291436.0,7234099.0,7199077.0,7164132.0,7130576.0,7095383.0,7058322.0,7020858.0,6982604.0,6945235.0,6899126.0,6834326.0,6586312.893980507,6588875.361169718,6591857.303254433,6596567.543185659,6598827.255643897,6604127.45074258,6603461.831025459,6610490.181270704,6614717.264355458,6618921.649754137,6624572.584540322,6624367.709383495,6625871.086927339,6626471.946049757,6627700.96195551,6628405.807370499,6630727.073871635,6630476.190572284,6630289.941955917,6630050.978299402,6629945.783254318],\"yaxis\":\"y\",\"type\":\"scatter\"}],                        {\"template\":{\"data\":{\"candlestick\":[{\"decreasing\":{\"line\":{\"color\":\"#000033\"}},\"increasing\":{\"line\":{\"color\":\"#000032\"}},\"type\":\"candlestick\"}],\"contourcarpet\":[{\"colorscale\":[[0.0,\"#000011\"],[0.1111111111111111,\"#000012\"],[0.2222222222222222,\"#000013\"],[0.3333333333333333,\"#000014\"],[0.4444444444444444,\"#000015\"],[0.5555555555555556,\"#000016\"],[0.6666666666666666,\"#000017\"],[0.7777777777777778,\"#000018\"],[0.8888888888888888,\"#000019\"],[1.0,\"#000020\"]],\"type\":\"contourcarpet\"}],\"contour\":[{\"colorscale\":[[0.0,\"#000011\"],[0.1111111111111111,\"#000012\"],[0.2222222222222222,\"#000013\"],[0.3333333333333333,\"#000014\"],[0.4444444444444444,\"#000015\"],[0.5555555555555556,\"#000016\"],[0.6666666666666666,\"#000017\"],[0.7777777777777778,\"#000018\"],[0.8888888888888888,\"#000019\"],[1.0,\"#000020\"]],\"type\":\"contour\"}],\"heatmap\":[{\"colorscale\":[[0.0,\"#000011\"],[0.1111111111111111,\"#000012\"],[0.2222222222222222,\"#000013\"],[0.3333333333333333,\"#000014\"],[0.4444444444444444,\"#000015\"],[0.5555555555555556,\"#000016\"],[0.6666666666666666,\"#000017\"],[0.7777777777777778,\"#000018\"],[0.8888888888888888,\"#000019\"],[1.0,\"#000020\"]],\"type\":\"heatmap\"}],\"histogram2d\":[{\"colorscale\":[[0.0,\"#000011\"],[0.1111111111111111,\"#000012\"],[0.2222222222222222,\"#000013\"],[0.3333333333333333,\"#000014\"],[0.4444444444444444,\"#000015\"],[0.5555555555555556,\"#000016\"],[0.6666666666666666,\"#000017\"],[0.7777777777777778,\"#000018\"],[0.8888888888888888,\"#000019\"],[1.0,\"#000020\"]],\"type\":\"histogram2d\"}],\"icicle\":[{\"textfont\":{\"color\":\"white\"},\"type\":\"icicle\"}],\"sankey\":[{\"textfont\":{\"color\":\"#000036\"},\"type\":\"sankey\"}],\"scatter\":[{\"marker\":{\"line\":{\"width\":0}},\"type\":\"scatter\"}],\"table\":[{\"cells\":{\"fill\":{\"color\":\"#000038\"},\"font\":{\"color\":\"#000037\"},\"line\":{\"color\":\"#000039\"}},\"header\":{\"fill\":{\"color\":\"#000040\"},\"font\":{\"color\":\"#000036\"},\"line\":{\"color\":\"#000039\"}},\"type\":\"table\"}],\"waterfall\":[{\"connector\":{\"line\":{\"color\":\"#000036\",\"width\":2}},\"decreasing\":{\"marker\":{\"color\":\"#000033\"}},\"increasing\":{\"marker\":{\"color\":\"#000032\"}},\"totals\":{\"marker\":{\"color\":\"#000034\"}},\"type\":\"waterfall\"}]},\"layout\":{\"coloraxis\":{\"colorscale\":[[0.0,\"#000011\"],[0.1111111111111111,\"#000012\"],[0.2222222222222222,\"#000013\"],[0.3333333333333333,\"#000014\"],[0.4444444444444444,\"#000015\"],[0.5555555555555556,\"#000016\"],[0.6666666666666666,\"#000017\"],[0.7777777777777778,\"#000018\"],[0.8888888888888888,\"#000019\"],[1.0,\"#000020\"]]},\"colorscale\":{\"diverging\":[[0.0,\"#000021\"],[0.1,\"#000022\"],[0.2,\"#000023\"],[0.3,\"#000024\"],[0.4,\"#000025\"],[0.5,\"#000026\"],[0.6,\"#000027\"],[0.7,\"#000028\"],[0.8,\"#000029\"],[0.9,\"#000030\"],[1.0,\"#000031\"]],\"sequential\":[[0.0,\"#000011\"],[0.1111111111111111,\"#000012\"],[0.2222222222222222,\"#000013\"],[0.3333333333333333,\"#000014\"],[0.4444444444444444,\"#000015\"],[0.5555555555555556,\"#000016\"],[0.6666666666666666,\"#000017\"],[0.7777777777777778,\"#000018\"],[0.8888888888888888,\"#000019\"],[1.0,\"#000020\"]],\"sequentialminus\":[[0.0,\"#000011\"],[0.1111111111111111,\"#000012\"],[0.2222222222222222,\"#000013\"],[0.3333333333333333,\"#000014\"],[0.4444444444444444,\"#000015\"],[0.5555555555555556,\"#000016\"],[0.6666666666666666,\"#000017\"],[0.7777777777777778,\"#000018\"],[0.8888888888888888,\"#000019\"],[1.0,\"#000020\"]]},\"colorway\":[\"#000001\",\"#000002\",\"#000003\",\"#000004\",\"#000005\",\"#000006\",\"#000007\",\"#000008\",\"#000009\",\"#000010\"]}},\"xaxis\":{\"anchor\":\"y\",\"domain\":[0.0,1.0],\"title\":{\"text\":\"Year\"}},\"yaxis\":{\"anchor\":\"x\",\"domain\":[0.0,1.0],\"title\":{\"text\":\"Total Population\"}},\"legend\":{\"title\":{\"text\":\"Country\"},\"tracegroupgap\":0},\"title\":{\"text\":\"Western Balkan Countries Population Prediction (CNN)\"}},                        {\"responsive\": true}                    ).then(function(){\n",
       "                            \n",
       "var gd = document.getElementById('81fc9683-2d1a-4e67-8f29-200548bace75');\n",
       "var x = new MutationObserver(function (mutations, observer) {{\n",
       "        var display = window.getComputedStyle(gd).display;\n",
       "        if (!display || display === 'none') {{\n",
       "            console.log([gd, 'removed!']);\n",
       "            Plotly.purge(gd);\n",
       "            observer.disconnect();\n",
       "        }}\n",
       "}});\n",
       "\n",
       "// Listen for the removal of the full notebook cells\n",
       "var notebookContainer = gd.closest('#notebook-container');\n",
       "if (notebookContainer) {{\n",
       "    x.observe(notebookContainer, {childList: true});\n",
       "}}\n",
       "\n",
       "// Listen for the clearing of the current output cell\n",
       "var outputEl = gd.closest('.output');\n",
       "if (outputEl) {{\n",
       "    x.observe(outputEl, {childList: true});\n",
       "}}\n",
       "\n",
       "                        })                };                });            </script>        </div>"
      ]
     },
     "metadata": {},
     "output_type": "display_data"
    }
   ],
   "source": [
    "import plotly.express as px\n",
    "\n",
    "\n",
    "# Assuming all_predictions is a list of DataFrames for each country\n",
    "all_predictions_df = pd.concat(all_predictions, ignore_index=True)\n",
    "\n",
    "# Ensure 'Country' column is categorical\n",
    "all_predictions_df['Country'] = pd.Categorical(all_predictions_df['Country'])\n",
    "\n",
    "\n",
    "\n",
    "color_map = {\n",
    "    'Albania': 'blue',\n",
    "    'Bosnia and Herzegovina': 'green',\n",
    "    'Croatia': 'red',\n",
    "    'Kosovo': 'purple',\n",
    "    'Montenegro': 'orange',\n",
    "    'North Macedonia': 'cyan',\n",
    "    'Serbia': 'magenta'\n",
    "}\n",
    "\n",
    "fig = px.line(all_predictions_df, x='Year', y='Total Population', color='Country', title='Western Balkan Countries Population Prediction (CNN)', color_discrete_map=color_map)\n",
    "# Plot results\n",
    "fig.show()\n"
   ]
  },
  {
   "cell_type": "code",
   "execution_count": 58,
   "id": "56d933a4-99a1-42d8-a4f0-c7cf8e115139",
   "metadata": {},
   "outputs": [],
   "source": []
  },
  {
   "cell_type": "code",
   "execution_count": 59,
   "id": "3a95dddd-5efc-4b64-9526-9fc0108bf66e",
   "metadata": {},
   "outputs": [],
   "source": []
  },
  {
   "cell_type": "code",
   "execution_count": null,
   "id": "458171ba-60a6-4a46-a78e-bc0138e81406",
   "metadata": {},
   "outputs": [],
   "source": []
  }
 ],
 "metadata": {
  "kernelspec": {
   "display_name": "Python 3 (ipykernel)",
   "language": "python",
   "name": "python3"
  },
  "language_info": {
   "codemirror_mode": {
    "name": "ipython",
    "version": 3
   },
   "file_extension": ".py",
   "mimetype": "text/x-python",
   "name": "python",
   "nbconvert_exporter": "python",
   "pygments_lexer": "ipython3",
   "version": "3.12.3"
  }
 },
 "nbformat": 4,
 "nbformat_minor": 5
}
